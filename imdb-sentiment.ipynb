{
 "cells": [
  {
   "cell_type": "code",
   "execution_count": 1,
   "id": "9bd016e7",
   "metadata": {
    "_cell_guid": "b1076dfc-b9ad-4769-8c92-a6c4dae69d19",
    "_uuid": "8f2839f25d086af736a60e9eeb907d3b93b6e0e5",
    "execution": {
     "iopub.execute_input": "2024-06-01T08:53:01.537499Z",
     "iopub.status.busy": "2024-06-01T08:53:01.537014Z",
     "iopub.status.idle": "2024-06-01T08:53:02.553413Z",
     "shell.execute_reply": "2024-06-01T08:53:02.551914Z"
    },
    "papermill": {
     "duration": 1.031758,
     "end_time": "2024-06-01T08:53:02.556537",
     "exception": false,
     "start_time": "2024-06-01T08:53:01.524779",
     "status": "completed"
    },
    "tags": []
   },
   "outputs": [
    {
     "name": "stdout",
     "output_type": "stream",
     "text": [
      "/kaggle/input/imdb-dataset-of-50k-movie-reviews/IMDB Dataset.csv\n"
     ]
    }
   ],
   "source": [
    "# This Python 3 environment comes with many helpful analytics libraries installed\n",
    "# It is defined by the kaggle/python Docker image: https://github.com/kaggle/docker-python\n",
    "# For example, here's several helpful packages to load\n",
    "\n",
    "import numpy as np # linear algebra\n",
    "import pandas as pd # data processing, CSV file I/O (e.g. pd.read_csv)\n",
    "\n",
    "# Input data files are available in the read-only \"../input/\" directory\n",
    "# For example, running this (by clicking run or pressing Shift+Enter) will list all files under the input directory\n",
    "\n",
    "import os\n",
    "for dirname, _, filenames in os.walk('/kaggle/input'):\n",
    "    for filename in filenames:\n",
    "        print(os.path.join(dirname, filename))\n",
    "\n",
    "# You can write up to 20GB to the current directory (/kaggle/working/) that gets preserved as output when you create a version using \"Save & Run All\" \n",
    "# You can also write temporary files to /kaggle/temp/, but they won't be saved outside of the current session"
   ]
  },
  {
   "cell_type": "code",
   "execution_count": 2,
   "id": "1f8def4b",
   "metadata": {
    "execution": {
     "iopub.execute_input": "2024-06-01T08:53:02.576514Z",
     "iopub.status.busy": "2024-06-01T08:53:02.575985Z",
     "iopub.status.idle": "2024-06-01T08:53:04.925522Z",
     "shell.execute_reply": "2024-06-01T08:53:04.924481Z"
    },
    "papermill": {
     "duration": 2.36291,
     "end_time": "2024-06-01T08:53:04.928501",
     "exception": false,
     "start_time": "2024-06-01T08:53:02.565591",
     "status": "completed"
    },
    "tags": []
   },
   "outputs": [],
   "source": [
    "df = pd.read_csv('/kaggle/input/imdb-dataset-of-50k-movie-reviews/IMDB Dataset.csv')"
   ]
  },
  {
   "cell_type": "code",
   "execution_count": 3,
   "id": "623a9401",
   "metadata": {
    "execution": {
     "iopub.execute_input": "2024-06-01T08:53:04.949605Z",
     "iopub.status.busy": "2024-06-01T08:53:04.948442Z",
     "iopub.status.idle": "2024-06-01T08:53:04.963867Z",
     "shell.execute_reply": "2024-06-01T08:53:04.962772Z"
    },
    "papermill": {
     "duration": 0.028108,
     "end_time": "2024-06-01T08:53:04.966545",
     "exception": false,
     "start_time": "2024-06-01T08:53:04.938437",
     "status": "completed"
    },
    "tags": []
   },
   "outputs": [
    {
     "name": "stdout",
     "output_type": "stream",
     "text": [
      "                                              review sentiment\n",
      "0  One of the other reviewers has mentioned that ...  positive\n",
      "1  A wonderful little production. <br /><br />The...  positive\n",
      "2  I thought this was a wonderful way to spend ti...  positive\n",
      "3  Basically there's a family where a little boy ...  negative\n",
      "4  Petter Mattei's \"Love in the Time of Money\" is...  positive\n"
     ]
    }
   ],
   "source": [
    "print(df.head())"
   ]
  },
  {
   "cell_type": "markdown",
   "id": "208e0482",
   "metadata": {
    "papermill": {
     "duration": 0.008432,
     "end_time": "2024-06-01T08:53:04.983958",
     "exception": false,
     "start_time": "2024-06-01T08:53:04.975526",
     "status": "completed"
    },
    "tags": []
   },
   "source": [
    "***Cleaning*"
   ]
  },
  {
   "cell_type": "code",
   "execution_count": 4,
   "id": "69e0887e",
   "metadata": {
    "execution": {
     "iopub.execute_input": "2024-06-01T08:53:05.003897Z",
     "iopub.status.busy": "2024-06-01T08:53:05.002957Z",
     "iopub.status.idle": "2024-06-01T08:53:05.009843Z",
     "shell.execute_reply": "2024-06-01T08:53:05.008706Z"
    },
    "papermill": {
     "duration": 0.019845,
     "end_time": "2024-06-01T08:53:05.012592",
     "exception": false,
     "start_time": "2024-06-01T08:53:04.992747",
     "status": "completed"
    },
    "tags": []
   },
   "outputs": [
    {
     "name": "stdout",
     "output_type": "stream",
     "text": [
      "manpreets\n"
     ]
    }
   ],
   "source": [
    "def lowercase(data):\n",
    "    result = \"\"\n",
    "    for i in data:\n",
    "        if i.isupper():\n",
    "            result += i.lower()\n",
    "        else:\n",
    "            result += i\n",
    "    return result\n",
    "\n",
    "print(lowercase(\"ManpreetS\"))\n"
   ]
  },
  {
   "cell_type": "code",
   "execution_count": 5,
   "id": "ad4c8cd2",
   "metadata": {
    "execution": {
     "iopub.execute_input": "2024-06-01T08:53:05.032475Z",
     "iopub.status.busy": "2024-06-01T08:53:05.032050Z",
     "iopub.status.idle": "2024-06-01T08:53:20.563807Z",
     "shell.execute_reply": "2024-06-01T08:53:20.562503Z"
    },
    "papermill": {
     "duration": 15.545113,
     "end_time": "2024-06-01T08:53:20.566884",
     "exception": false,
     "start_time": "2024-06-01T08:53:05.021771",
     "status": "completed"
    },
    "tags": []
   },
   "outputs": [],
   "source": [
    "df[\"review\"]=df[\"review\"].apply(lowercase)"
   ]
  },
  {
   "cell_type": "code",
   "execution_count": 6,
   "id": "0db12057",
   "metadata": {
    "execution": {
     "iopub.execute_input": "2024-06-01T08:53:20.587425Z",
     "iopub.status.busy": "2024-06-01T08:53:20.586994Z",
     "iopub.status.idle": "2024-06-01T08:53:20.701243Z",
     "shell.execute_reply": "2024-06-01T08:53:20.700015Z"
    },
    "papermill": {
     "duration": 0.128199,
     "end_time": "2024-06-01T08:53:20.704334",
     "exception": false,
     "start_time": "2024-06-01T08:53:20.576135",
     "status": "completed"
    },
    "tags": []
   },
   "outputs": [],
   "source": [
    "df['review'] = df['review'].str.replace(r'<.*?>','')\n",
    "df['review'] = df['review'].str.replace(r\"https?://\\S+|www\\.\\S+\",'')"
   ]
  },
  {
   "cell_type": "code",
   "execution_count": 7,
   "id": "c0aebcf6",
   "metadata": {
    "execution": {
     "iopub.execute_input": "2024-06-01T08:53:20.724180Z",
     "iopub.status.busy": "2024-06-01T08:53:20.723737Z",
     "iopub.status.idle": "2024-06-01T08:53:20.729994Z",
     "shell.execute_reply": "2024-06-01T08:53:20.728970Z"
    },
    "papermill": {
     "duration": 0.019227,
     "end_time": "2024-06-01T08:53:20.732595",
     "exception": false,
     "start_time": "2024-06-01T08:53:20.713368",
     "status": "completed"
    },
    "tags": []
   },
   "outputs": [],
   "source": [
    "import re\n",
    "def remove_url(data):\n",
    "    data=re.sub(r\"https?://\\S+|www\\.\\S+\",'',data)\n",
    "    data=re.sub(r'<.*?>','',data)\n",
    "    return data\n"
   ]
  },
  {
   "cell_type": "code",
   "execution_count": 8,
   "id": "38ac1f16",
   "metadata": {
    "execution": {
     "iopub.execute_input": "2024-06-01T08:53:20.752485Z",
     "iopub.status.busy": "2024-06-01T08:53:20.752039Z",
     "iopub.status.idle": "2024-06-01T08:53:22.685000Z",
     "shell.execute_reply": "2024-06-01T08:53:22.683755Z"
    },
    "papermill": {
     "duration": 1.946215,
     "end_time": "2024-06-01T08:53:22.687831",
     "exception": false,
     "start_time": "2024-06-01T08:53:20.741616",
     "status": "completed"
    },
    "tags": []
   },
   "outputs": [],
   "source": [
    "df[\"review\"]=df[\"review\"].apply(remove_url)"
   ]
  },
  {
   "cell_type": "code",
   "execution_count": 9,
   "id": "dff9efe8",
   "metadata": {
    "execution": {
     "iopub.execute_input": "2024-06-01T08:53:22.707983Z",
     "iopub.status.busy": "2024-06-01T08:53:22.707505Z",
     "iopub.status.idle": "2024-06-01T08:53:23.184324Z",
     "shell.execute_reply": "2024-06-01T08:53:23.183163Z"
    },
    "papermill": {
     "duration": 0.490206,
     "end_time": "2024-06-01T08:53:23.187257",
     "exception": false,
     "start_time": "2024-06-01T08:53:22.697051",
     "status": "completed"
    },
    "tags": []
   },
   "outputs": [],
   "source": [
    "import string\n",
    "\n",
    "def remove_pun(text):\n",
    "    for i in string.punctuation:\n",
    "        if i in text:\n",
    "            text = text.replace(i, \" \")\n",
    "    return text\n",
    "df[\"review\"]=df[\"review\"].apply(remove_pun)"
   ]
  },
  {
   "cell_type": "code",
   "execution_count": 10,
   "id": "85a145f6",
   "metadata": {
    "execution": {
     "iopub.execute_input": "2024-06-01T08:53:23.207570Z",
     "iopub.status.busy": "2024-06-01T08:53:23.207130Z",
     "iopub.status.idle": "2024-06-01T08:53:23.608148Z",
     "shell.execute_reply": "2024-06-01T08:53:23.606968Z"
    },
    "papermill": {
     "duration": 0.414309,
     "end_time": "2024-06-01T08:53:23.611056",
     "exception": false,
     "start_time": "2024-06-01T08:53:23.196747",
     "status": "completed"
    },
    "tags": []
   },
   "outputs": [],
   "source": [
    "bad_chars = [';', ':', '!', \"*\", \"^\",\"&\",\"(\",\")\",\"$\",\"[\",\"]\"]\n",
    "\n",
    "def remove_sym(text):\n",
    "    test_string = text\n",
    "    for char in bad_chars:\n",
    "        test_string = test_string.replace(char, '')\n",
    "    return test_string\n",
    " \n",
    "df[\"review\"]=df[\"review\"].apply(remove_sym)"
   ]
  },
  {
   "cell_type": "code",
   "execution_count": 11,
   "id": "7a3b5f4c",
   "metadata": {
    "execution": {
     "iopub.execute_input": "2024-06-01T08:53:23.631261Z",
     "iopub.status.busy": "2024-06-01T08:53:23.630826Z",
     "iopub.status.idle": "2024-06-01T08:53:29.815439Z",
     "shell.execute_reply": "2024-06-01T08:53:29.814111Z"
    },
    "papermill": {
     "duration": 6.197853,
     "end_time": "2024-06-01T08:53:29.818278",
     "exception": false,
     "start_time": "2024-06-01T08:53:23.620425",
     "status": "completed"
    },
    "tags": []
   },
   "outputs": [],
   "source": [
    "def replace_multiple_spaces(text):\n",
    "    \n",
    "    return re.sub(r'\\s+', ' ', text)\n",
    "df[\"review\"]=df[\"review\"].apply(replace_multiple_spaces)"
   ]
  },
  {
   "cell_type": "code",
   "execution_count": 12,
   "id": "9b79f13c",
   "metadata": {
    "execution": {
     "iopub.execute_input": "2024-06-01T08:53:29.838474Z",
     "iopub.status.busy": "2024-06-01T08:53:29.838046Z",
     "iopub.status.idle": "2024-06-01T08:53:29.844296Z",
     "shell.execute_reply": "2024-06-01T08:53:29.843207Z"
    },
    "papermill": {
     "duration": 0.018809,
     "end_time": "2024-06-01T08:53:29.846595",
     "exception": false,
     "start_time": "2024-06-01T08:53:29.827786",
     "status": "completed"
    },
    "tags": []
   },
   "outputs": [
    {
     "name": "stdout",
     "output_type": "stream",
     "text": [
      "one of the other reviewers has mentioned that after watching just 1 oz episode you ll be hooked they are right as this is exactly what happened with me the first thing that struck me about oz was its brutality and unflinching scenes of violence which set in right from the word go trust me this is not a show for the faint hearted or timid this show pulls no punches with regards to drugs sex or violence its is hardcore in the classic use of the word it is called oz as that is the nickname given to the oswald maximum security state penitentary it focuses mainly on emerald city an experimental section of the prison where all the cells have glass fronts and face inwards so privacy is not high on the agenda em city is home to many aryans muslims gangstas latinos christians italians irish and more so scuffles death stares dodgy dealings and shady agreements are never far away i would say the main appeal of the show is due to the fact that it goes where other shows wouldn t dare forget pretty pictures painted for mainstream audiences forget charm forget romance oz doesn t mess around the first episode i ever saw struck me as so nasty it was surreal i couldn t say i was ready for it but as i watched more i developed a taste for oz and got accustomed to the high levels of graphic violence not just violence but injustice crooked guards who ll be sold out for a nickel inmates who ll kill on order and get away with it well mannered middle class inmates being turned into prison bitches due to their lack of street skills or prison experience watching oz you may become comfortable with what is uncomfortable viewing thats if you can get in touch with your darker side \n"
     ]
    }
   ],
   "source": [
    "print(df.review[0])"
   ]
  },
  {
   "cell_type": "code",
   "execution_count": 13,
   "id": "383f87aa",
   "metadata": {
    "execution": {
     "iopub.execute_input": "2024-06-01T08:53:29.867110Z",
     "iopub.status.busy": "2024-06-01T08:53:29.866682Z",
     "iopub.status.idle": "2024-06-01T08:53:32.950015Z",
     "shell.execute_reply": "2024-06-01T08:53:32.948979Z"
    },
    "papermill": {
     "duration": 3.096917,
     "end_time": "2024-06-01T08:53:32.953099",
     "exception": false,
     "start_time": "2024-06-01T08:53:29.856182",
     "status": "completed"
    },
    "tags": []
   },
   "outputs": [],
   "source": [
    "df.to_csv(\"pd2.csv\")"
   ]
  },
  {
   "cell_type": "code",
   "execution_count": 14,
   "id": "8da5b290",
   "metadata": {
    "execution": {
     "iopub.execute_input": "2024-06-01T08:53:32.973762Z",
     "iopub.status.busy": "2024-06-01T08:53:32.972662Z",
     "iopub.status.idle": "2024-06-01T08:55:16.481984Z",
     "shell.execute_reply": "2024-06-01T08:55:16.480918Z"
    },
    "papermill": {
     "duration": 103.522636,
     "end_time": "2024-06-01T08:55:16.484890",
     "exception": false,
     "start_time": "2024-06-01T08:53:32.962254",
     "status": "completed"
    },
    "tags": []
   },
   "outputs": [],
   "source": [
    "from nltk.tokenize import word_tokenize\n",
    "df['tokenized_review'] = df['review'].apply(word_tokenize)"
   ]
  },
  {
   "cell_type": "code",
   "execution_count": 15,
   "id": "d0d65a3c",
   "metadata": {
    "execution": {
     "iopub.execute_input": "2024-06-01T08:55:16.505856Z",
     "iopub.status.busy": "2024-06-01T08:55:16.504776Z",
     "iopub.status.idle": "2024-06-01T08:55:16.511866Z",
     "shell.execute_reply": "2024-06-01T08:55:16.510570Z"
    },
    "papermill": {
     "duration": 0.020175,
     "end_time": "2024-06-01T08:55:16.514323",
     "exception": false,
     "start_time": "2024-06-01T08:55:16.494148",
     "status": "completed"
    },
    "tags": []
   },
   "outputs": [],
   "source": [
    "from nltk.corpus import stopwords\n",
    "def remove_stopwords(text):\n",
    "\n",
    "    L = []\n",
    "    for word in text:\n",
    "        if word not in stopwords.words('english'):\n",
    "            L.append(word)\n",
    "\n",
    "    return L"
   ]
  },
  {
   "cell_type": "code",
   "execution_count": 16,
   "id": "7126f1c0",
   "metadata": {
    "execution": {
     "iopub.execute_input": "2024-06-01T08:55:16.534527Z",
     "iopub.status.busy": "2024-06-01T08:55:16.534101Z",
     "iopub.status.idle": "2024-06-01T08:55:16.541155Z",
     "shell.execute_reply": "2024-06-01T08:55:16.539686Z"
    },
    "papermill": {
     "duration": 0.02029,
     "end_time": "2024-06-01T08:55:16.543797",
     "exception": false,
     "start_time": "2024-06-01T08:55:16.523507",
     "status": "completed"
    },
    "tags": []
   },
   "outputs": [],
   "source": [
    "from nltk.stem.porter import PorterStemmer\n",
    "ps=PorterStemmer()\n",
    "y=[]\n",
    "def stem_words(text):\n",
    "    for i in text:\n",
    "        y.append(ps.stem(i))\n",
    "    z=y[:]\n",
    "    y.clear()\n",
    "    return z\n",
    "        "
   ]
  },
  {
   "cell_type": "code",
   "execution_count": 17,
   "id": "a00941c9",
   "metadata": {
    "execution": {
     "iopub.execute_input": "2024-06-01T08:55:16.564387Z",
     "iopub.status.busy": "2024-06-01T08:55:16.563685Z",
     "iopub.status.idle": "2024-06-01T09:26:28.460891Z",
     "shell.execute_reply": "2024-06-01T09:26:28.459672Z"
    },
    "papermill": {
     "duration": 1871.91128,
     "end_time": "2024-06-01T09:26:28.464284",
     "exception": false,
     "start_time": "2024-06-01T08:55:16.553004",
     "status": "completed"
    },
    "tags": []
   },
   "outputs": [],
   "source": [
    "df['tokenized_review'] = df['tokenized_review'].apply(remove_stopwords)\n",
    "df['tokenized_review'] = df['tokenized_review'].apply(stem_words)"
   ]
  },
  {
   "cell_type": "code",
   "execution_count": 18,
   "id": "0a85eff2",
   "metadata": {
    "execution": {
     "iopub.execute_input": "2024-06-01T09:26:28.485929Z",
     "iopub.status.busy": "2024-06-01T09:26:28.484812Z",
     "iopub.status.idle": "2024-06-01T09:26:28.491299Z",
     "shell.execute_reply": "2024-06-01T09:26:28.490090Z"
    },
    "papermill": {
     "duration": 0.02041,
     "end_time": "2024-06-01T09:26:28.494187",
     "exception": false,
     "start_time": "2024-06-01T09:26:28.473777",
     "status": "completed"
    },
    "tags": []
   },
   "outputs": [
    {
     "name": "stdout",
     "output_type": "stream",
     "text": [
      "['one', 'review', 'mention', 'watch', '1', 'oz', 'episod', 'hook', 'right', 'exactli', 'happen', 'first', 'thing', 'struck', 'oz', 'brutal', 'unflinch', 'scene', 'violenc', 'set', 'right', 'word', 'go', 'trust', 'show', 'faint', 'heart', 'timid', 'show', 'pull', 'punch', 'regard', 'drug', 'sex', 'violenc', 'hardcor', 'classic', 'use', 'word', 'call', 'oz', 'nicknam', 'given', 'oswald', 'maximum', 'secur', 'state', 'penitentari', 'focus', 'mainli', 'emerald', 'citi', 'experiment', 'section', 'prison', 'cell', 'glass', 'front', 'face', 'inward', 'privaci', 'high', 'agenda', 'em', 'citi', 'home', 'mani', 'aryan', 'muslim', 'gangsta', 'latino', 'christian', 'italian', 'irish', 'scuffl', 'death', 'stare', 'dodgi', 'deal', 'shadi', 'agreement', 'never', 'far', 'away', 'would', 'say', 'main', 'appeal', 'show', 'due', 'fact', 'goe', 'show', 'dare', 'forget', 'pretti', 'pictur', 'paint', 'mainstream', 'audienc', 'forget', 'charm', 'forget', 'romanc', 'oz', 'mess', 'around', 'first', 'episod', 'ever', 'saw', 'struck', 'nasti', 'surreal', 'say', 'readi', 'watch', 'develop', 'tast', 'oz', 'got', 'accustom', 'high', 'level', 'graphic', 'violenc', 'violenc', 'injustic', 'crook', 'guard', 'sold', 'nickel', 'inmat', 'kill', 'order', 'get', 'away', 'well', 'manner', 'middl', 'class', 'inmat', 'turn', 'prison', 'bitch', 'due', 'lack', 'street', 'skill', 'prison', 'experi', 'watch', 'oz', 'may', 'becom', 'comfort', 'uncomfort', 'view', 'that', 'get', 'touch', 'darker', 'side']\n"
     ]
    }
   ],
   "source": [
    "print(df.tokenized_review[0])"
   ]
  },
  {
   "cell_type": "code",
   "execution_count": 19,
   "id": "f1cc05d0",
   "metadata": {
    "execution": {
     "iopub.execute_input": "2024-06-01T09:26:28.515052Z",
     "iopub.status.busy": "2024-06-01T09:26:28.513827Z",
     "iopub.status.idle": "2024-06-01T09:26:28.848143Z",
     "shell.execute_reply": "2024-06-01T09:26:28.846797Z"
    },
    "papermill": {
     "duration": 0.347776,
     "end_time": "2024-06-01T09:26:28.851063",
     "exception": false,
     "start_time": "2024-06-01T09:26:28.503287",
     "status": "completed"
    },
    "tags": []
   },
   "outputs": [],
   "source": [
    "def join_back(list_input):\n",
    "    return \" \".join(list_input)\n",
    "    \n",
    "df['review']=df['tokenized_review'].apply(join_back)"
   ]
  },
  {
   "cell_type": "code",
   "execution_count": 20,
   "id": "36a30d1d",
   "metadata": {
    "execution": {
     "iopub.execute_input": "2024-06-01T09:26:28.872324Z",
     "iopub.status.busy": "2024-06-01T09:26:28.871149Z",
     "iopub.status.idle": "2024-06-01T09:26:28.878311Z",
     "shell.execute_reply": "2024-06-01T09:26:28.876991Z"
    },
    "papermill": {
     "duration": 0.020424,
     "end_time": "2024-06-01T09:26:28.880991",
     "exception": false,
     "start_time": "2024-06-01T09:26:28.860567",
     "status": "completed"
    },
    "tags": []
   },
   "outputs": [
    {
     "name": "stdout",
     "output_type": "stream",
     "text": [
      "['positive' 'positive' 'positive' ... 'negative' 'negative' 'negative']\n"
     ]
    }
   ],
   "source": [
    "X=df[\"review\"].values\n",
    "\n",
    "y=df[\"sentiment\"].values\n",
    "print(y)"
   ]
  },
  {
   "cell_type": "code",
   "execution_count": 21,
   "id": "371f7c0b",
   "metadata": {
    "execution": {
     "iopub.execute_input": "2024-06-01T09:26:28.901977Z",
     "iopub.status.busy": "2024-06-01T09:26:28.900916Z",
     "iopub.status.idle": "2024-06-01T09:26:37.453677Z",
     "shell.execute_reply": "2024-06-01T09:26:37.452584Z"
    },
    "papermill": {
     "duration": 8.566207,
     "end_time": "2024-06-01T09:26:37.456508",
     "exception": false,
     "start_time": "2024-06-01T09:26:28.890301",
     "status": "completed"
    },
    "tags": []
   },
   "outputs": [],
   "source": [
    "from sklearn.feature_extraction.text import CountVectorizer\n",
    "cv=CountVectorizer(max_features=2500)\n",
    "X=cv.fit_transform(df['review']).toarray()"
   ]
  },
  {
   "cell_type": "code",
   "execution_count": 22,
   "id": "95ea167b",
   "metadata": {
    "execution": {
     "iopub.execute_input": "2024-06-01T09:26:37.476918Z",
     "iopub.status.busy": "2024-06-01T09:26:37.476409Z",
     "iopub.status.idle": "2024-06-01T09:26:37.938003Z",
     "shell.execute_reply": "2024-06-01T09:26:37.936995Z"
    },
    "papermill": {
     "duration": 0.475195,
     "end_time": "2024-06-01T09:26:37.940999",
     "exception": false,
     "start_time": "2024-06-01T09:26:37.465804",
     "status": "completed"
    },
    "tags": []
   },
   "outputs": [],
   "source": [
    "from sklearn.model_selection import train_test_split\n",
    "\n",
    "X_train, X_test,y_train,y_test=train_test_split(X,y,test_size=0.2)"
   ]
  },
  {
   "cell_type": "code",
   "execution_count": 23,
   "id": "37a43402",
   "metadata": {
    "execution": {
     "iopub.execute_input": "2024-06-01T09:26:37.962490Z",
     "iopub.status.busy": "2024-06-01T09:26:37.961572Z",
     "iopub.status.idle": "2024-06-01T09:26:44.335394Z",
     "shell.execute_reply": "2024-06-01T09:26:44.333996Z"
    },
    "papermill": {
     "duration": 6.387335,
     "end_time": "2024-06-01T09:26:44.338154",
     "exception": false,
     "start_time": "2024-06-01T09:26:37.950819",
     "status": "completed"
    },
    "tags": []
   },
   "outputs": [
    {
     "name": "stdout",
     "output_type": "stream",
     "text": [
      "Gaussian 0.7512\n",
      "Multinomial 0.8398\n",
      "Bernaulli 0.843\n"
     ]
    }
   ],
   "source": [
    "from sklearn.naive_bayes import GaussianNB,MultinomialNB,BernoulliNB\n",
    "clf1=GaussianNB()\n",
    "clf2=MultinomialNB()\n",
    "clf3=BernoulliNB()\n",
    "clf1.fit(X_train,y_train)\n",
    "clf2.fit(X_train,y_train)\n",
    "clf3.fit(X_train,y_train)\n",
    "y_pred1=clf1.predict(X_test)\n",
    "y_pred2=clf2.predict(X_test)\n",
    "y_pred3=clf3.predict(X_test)\n",
    "\n",
    "from sklearn.metrics import accuracy_score\n",
    "print(\"Gaussian\",accuracy_score(y_test,y_pred1))\n",
    "print(\"Multinomial\",accuracy_score(y_test,y_pred2))\n",
    "print(\"Bernaulli\",accuracy_score(y_test,y_pred3))"
   ]
  },
  {
   "cell_type": "code",
   "execution_count": 24,
   "id": "b1b0eec9",
   "metadata": {
    "execution": {
     "iopub.execute_input": "2024-06-01T09:26:44.360061Z",
     "iopub.status.busy": "2024-06-01T09:26:44.359650Z",
     "iopub.status.idle": "2024-06-01T09:26:44.508674Z",
     "shell.execute_reply": "2024-06-01T09:26:44.507518Z"
    },
    "papermill": {
     "duration": 0.16229,
     "end_time": "2024-06-01T09:26:44.511310",
     "exception": false,
     "start_time": "2024-06-01T09:26:44.349020",
     "status": "completed"
    },
    "tags": []
   },
   "outputs": [
    {
     "data": {
      "text/html": [
       "<style>#sk-container-id-1 {color: black;background-color: white;}#sk-container-id-1 pre{padding: 0;}#sk-container-id-1 div.sk-toggleable {background-color: white;}#sk-container-id-1 label.sk-toggleable__label {cursor: pointer;display: block;width: 100%;margin-bottom: 0;padding: 0.3em;box-sizing: border-box;text-align: center;}#sk-container-id-1 label.sk-toggleable__label-arrow:before {content: \"▸\";float: left;margin-right: 0.25em;color: #696969;}#sk-container-id-1 label.sk-toggleable__label-arrow:hover:before {color: black;}#sk-container-id-1 div.sk-estimator:hover label.sk-toggleable__label-arrow:before {color: black;}#sk-container-id-1 div.sk-toggleable__content {max-height: 0;max-width: 0;overflow: hidden;text-align: left;background-color: #f0f8ff;}#sk-container-id-1 div.sk-toggleable__content pre {margin: 0.2em;color: black;border-radius: 0.25em;background-color: #f0f8ff;}#sk-container-id-1 input.sk-toggleable__control:checked~div.sk-toggleable__content {max-height: 200px;max-width: 100%;overflow: auto;}#sk-container-id-1 input.sk-toggleable__control:checked~label.sk-toggleable__label-arrow:before {content: \"▾\";}#sk-container-id-1 div.sk-estimator input.sk-toggleable__control:checked~label.sk-toggleable__label {background-color: #d4ebff;}#sk-container-id-1 div.sk-label input.sk-toggleable__control:checked~label.sk-toggleable__label {background-color: #d4ebff;}#sk-container-id-1 input.sk-hidden--visually {border: 0;clip: rect(1px 1px 1px 1px);clip: rect(1px, 1px, 1px, 1px);height: 1px;margin: -1px;overflow: hidden;padding: 0;position: absolute;width: 1px;}#sk-container-id-1 div.sk-estimator {font-family: monospace;background-color: #f0f8ff;border: 1px dotted black;border-radius: 0.25em;box-sizing: border-box;margin-bottom: 0.5em;}#sk-container-id-1 div.sk-estimator:hover {background-color: #d4ebff;}#sk-container-id-1 div.sk-parallel-item::after {content: \"\";width: 100%;border-bottom: 1px solid gray;flex-grow: 1;}#sk-container-id-1 div.sk-label:hover label.sk-toggleable__label {background-color: #d4ebff;}#sk-container-id-1 div.sk-serial::before {content: \"\";position: absolute;border-left: 1px solid gray;box-sizing: border-box;top: 0;bottom: 0;left: 50%;z-index: 0;}#sk-container-id-1 div.sk-serial {display: flex;flex-direction: column;align-items: center;background-color: white;padding-right: 0.2em;padding-left: 0.2em;position: relative;}#sk-container-id-1 div.sk-item {position: relative;z-index: 1;}#sk-container-id-1 div.sk-parallel {display: flex;align-items: stretch;justify-content: center;background-color: white;position: relative;}#sk-container-id-1 div.sk-item::before, #sk-container-id-1 div.sk-parallel-item::before {content: \"\";position: absolute;border-left: 1px solid gray;box-sizing: border-box;top: 0;bottom: 0;left: 50%;z-index: -1;}#sk-container-id-1 div.sk-parallel-item {display: flex;flex-direction: column;z-index: 1;position: relative;background-color: white;}#sk-container-id-1 div.sk-parallel-item:first-child::after {align-self: flex-end;width: 50%;}#sk-container-id-1 div.sk-parallel-item:last-child::after {align-self: flex-start;width: 50%;}#sk-container-id-1 div.sk-parallel-item:only-child::after {width: 0;}#sk-container-id-1 div.sk-dashed-wrapped {border: 1px dashed gray;margin: 0 0.4em 0.5em 0.4em;box-sizing: border-box;padding-bottom: 0.4em;background-color: white;}#sk-container-id-1 div.sk-label label {font-family: monospace;font-weight: bold;display: inline-block;line-height: 1.2em;}#sk-container-id-1 div.sk-label-container {text-align: center;}#sk-container-id-1 div.sk-container {/* jupyter's `normalize.less` sets `[hidden] { display: none; }` but bootstrap.min.css set `[hidden] { display: none !important; }` so we also need the `!important` here to be able to override the default hidden behavior on the sphinx rendered scikit-learn.org. See: https://github.com/scikit-learn/scikit-learn/issues/21755 */display: inline-block !important;position: relative;}#sk-container-id-1 div.sk-text-repr-fallback {display: none;}</style><div id=\"sk-container-id-1\" class=\"sk-top-container\"><div class=\"sk-text-repr-fallback\"><pre>KNeighborsClassifier(n_neighbors=3)</pre><b>In a Jupyter environment, please rerun this cell to show the HTML representation or trust the notebook. <br />On GitHub, the HTML representation is unable to render, please try loading this page with nbviewer.org.</b></div><div class=\"sk-container\" hidden><div class=\"sk-item\"><div class=\"sk-estimator sk-toggleable\"><input class=\"sk-toggleable__control sk-hidden--visually\" id=\"sk-estimator-id-1\" type=\"checkbox\" checked><label for=\"sk-estimator-id-1\" class=\"sk-toggleable__label sk-toggleable__label-arrow\">KNeighborsClassifier</label><div class=\"sk-toggleable__content\"><pre>KNeighborsClassifier(n_neighbors=3)</pre></div></div></div></div></div>"
      ],
      "text/plain": [
       "KNeighborsClassifier(n_neighbors=3)"
      ]
     },
     "execution_count": 24,
     "metadata": {},
     "output_type": "execute_result"
    }
   ],
   "source": [
    "from sklearn.neighbors import KNeighborsClassifier\n",
    "neigh = KNeighborsClassifier(n_neighbors=3)\n",
    "neigh.fit(X_train, y_train)"
   ]
  },
  {
   "cell_type": "code",
   "execution_count": 25,
   "id": "cf7b48b6",
   "metadata": {
    "execution": {
     "iopub.execute_input": "2024-06-01T09:26:44.532573Z",
     "iopub.status.busy": "2024-06-01T09:26:44.532175Z",
     "iopub.status.idle": "2024-06-01T09:27:22.643554Z",
     "shell.execute_reply": "2024-06-01T09:27:22.642411Z"
    },
    "papermill": {
     "duration": 38.134305,
     "end_time": "2024-06-01T09:27:22.655690",
     "exception": false,
     "start_time": "2024-06-01T09:26:44.521385",
     "status": "completed"
    },
    "tags": []
   },
   "outputs": [
    {
     "name": "stdout",
     "output_type": "stream",
     "text": [
      "knn 0.6325\n"
     ]
    }
   ],
   "source": [
    "y_pred4=neigh.predict(X_test)\n",
    "from sklearn.metrics import accuracy_score\n",
    "print(\"knn\",accuracy_score(y_test,y_pred4))"
   ]
  }
 ],
 "metadata": {
  "kaggle": {
   "accelerator": "none",
   "dataSources": [
    {
     "datasetId": 134715,
     "sourceId": 320111,
     "sourceType": "datasetVersion"
    }
   ],
   "dockerImageVersionId": 30715,
   "isGpuEnabled": false,
   "isInternetEnabled": false,
   "language": "python",
   "sourceType": "notebook"
  },
  "kernelspec": {
   "display_name": "Python 3",
   "language": "python",
   "name": "python3"
  },
  "language_info": {
   "codemirror_mode": {
    "name": "ipython",
    "version": 3
   },
   "file_extension": ".py",
   "mimetype": "text/x-python",
   "name": "python",
   "nbconvert_exporter": "python",
   "pygments_lexer": "ipython3",
   "version": "3.10.13"
  },
  "papermill": {
   "default_parameters": {},
   "duration": 2065.561713,
   "end_time": "2024-06-01T09:27:23.995295",
   "environment_variables": {},
   "exception": null,
   "input_path": "__notebook__.ipynb",
   "output_path": "__notebook__.ipynb",
   "parameters": {},
   "start_time": "2024-06-01T08:52:58.433582",
   "version": "2.5.0"
  }
 },
 "nbformat": 4,
 "nbformat_minor": 5
}
